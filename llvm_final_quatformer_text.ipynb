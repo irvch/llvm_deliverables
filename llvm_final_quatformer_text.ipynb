{
  "nbformat": 4,
  "nbformat_minor": 0,
  "metadata": {
    "colab": {
      "provenance": [],
      "gpuType": "A100",
      "machine_shape": "hm"
    },
    "kernelspec": {
      "name": "python3",
      "display_name": "Python 3"
    },
    "language_info": {
      "name": "python"
    },
    "accelerator": "GPU"
  },
  "cells": [
    {
      "cell_type": "code",
      "execution_count": null,
      "metadata": {
        "colab": {
          "base_uri": "https://localhost:8080/"
        },
        "id": "AV-noix4Qu0C",
        "outputId": "bdb48e04-25e6-41af-818e-13a15b006f92"
      },
      "outputs": [
        {
          "output_type": "stream",
          "name": "stderr",
          "text": [
            "[nltk_data] Downloading package punkt to /root/nltk_data...\n",
            "[nltk_data]   Unzipping tokenizers/punkt.zip.\n",
            "[nltk_data] Downloading package stopwords to /root/nltk_data...\n",
            "[nltk_data]   Unzipping corpora/stopwords.zip.\n",
            "[nltk_data] Downloading package wordnet to /root/nltk_data...\n"
          ]
        },
        {
          "output_type": "stream",
          "name": "stdout",
          "text": [
            "Collecting datasets\n",
            "  Downloading datasets-3.5.1-py3-none-any.whl.metadata (19 kB)\n",
            "Requirement already satisfied: filelock in /usr/local/lib/python3.11/dist-packages (from datasets) (3.18.0)\n",
            "Requirement already satisfied: numpy>=1.17 in /usr/local/lib/python3.11/dist-packages (from datasets) (2.0.2)\n",
            "Requirement already satisfied: pyarrow>=15.0.0 in /usr/local/lib/python3.11/dist-packages (from datasets) (18.1.0)\n",
            "Collecting dill<0.3.9,>=0.3.0 (from datasets)\n",
            "  Downloading dill-0.3.8-py3-none-any.whl.metadata (10 kB)\n",
            "Requirement already satisfied: pandas in /usr/local/lib/python3.11/dist-packages (from datasets) (2.2.2)\n",
            "Requirement already satisfied: requests>=2.32.2 in /usr/local/lib/python3.11/dist-packages (from datasets) (2.32.3)\n",
            "Requirement already satisfied: tqdm>=4.66.3 in /usr/local/lib/python3.11/dist-packages (from datasets) (4.67.1)\n",
            "Collecting xxhash (from datasets)\n",
            "  Downloading xxhash-3.5.0-cp311-cp311-manylinux_2_17_x86_64.manylinux2014_x86_64.whl.metadata (12 kB)\n",
            "Collecting multiprocess<0.70.17 (from datasets)\n",
            "  Downloading multiprocess-0.70.16-py311-none-any.whl.metadata (7.2 kB)\n",
            "Collecting fsspec<=2025.3.0,>=2023.1.0 (from fsspec[http]<=2025.3.0,>=2023.1.0->datasets)\n",
            "  Downloading fsspec-2025.3.0-py3-none-any.whl.metadata (11 kB)\n",
            "Requirement already satisfied: aiohttp in /usr/local/lib/python3.11/dist-packages (from datasets) (3.11.15)\n",
            "Requirement already satisfied: huggingface-hub>=0.24.0 in /usr/local/lib/python3.11/dist-packages (from datasets) (0.30.2)\n",
            "Requirement already satisfied: packaging in /usr/local/lib/python3.11/dist-packages (from datasets) (24.2)\n",
            "Requirement already satisfied: pyyaml>=5.1 in /usr/local/lib/python3.11/dist-packages (from datasets) (6.0.2)\n",
            "Requirement already satisfied: aiohappyeyeballs>=2.3.0 in /usr/local/lib/python3.11/dist-packages (from aiohttp->datasets) (2.6.1)\n",
            "Requirement already satisfied: aiosignal>=1.1.2 in /usr/local/lib/python3.11/dist-packages (from aiohttp->datasets) (1.3.2)\n",
            "Requirement already satisfied: attrs>=17.3.0 in /usr/local/lib/python3.11/dist-packages (from aiohttp->datasets) (25.3.0)\n",
            "Requirement already satisfied: frozenlist>=1.1.1 in /usr/local/lib/python3.11/dist-packages (from aiohttp->datasets) (1.6.0)\n",
            "Requirement already satisfied: multidict<7.0,>=4.5 in /usr/local/lib/python3.11/dist-packages (from aiohttp->datasets) (6.4.3)\n",
            "Requirement already satisfied: propcache>=0.2.0 in /usr/local/lib/python3.11/dist-packages (from aiohttp->datasets) (0.3.1)\n",
            "Requirement already satisfied: yarl<2.0,>=1.17.0 in /usr/local/lib/python3.11/dist-packages (from aiohttp->datasets) (1.20.0)\n",
            "Requirement already satisfied: typing-extensions>=3.7.4.3 in /usr/local/lib/python3.11/dist-packages (from huggingface-hub>=0.24.0->datasets) (4.13.2)\n",
            "Requirement already satisfied: charset-normalizer<4,>=2 in /usr/local/lib/python3.11/dist-packages (from requests>=2.32.2->datasets) (3.4.1)\n",
            "Requirement already satisfied: idna<4,>=2.5 in /usr/local/lib/python3.11/dist-packages (from requests>=2.32.2->datasets) (3.10)\n",
            "Requirement already satisfied: urllib3<3,>=1.21.1 in /usr/local/lib/python3.11/dist-packages (from requests>=2.32.2->datasets) (2.4.0)\n",
            "Requirement already satisfied: certifi>=2017.4.17 in /usr/local/lib/python3.11/dist-packages (from requests>=2.32.2->datasets) (2025.4.26)\n",
            "Requirement already satisfied: python-dateutil>=2.8.2 in /usr/local/lib/python3.11/dist-packages (from pandas->datasets) (2.9.0.post0)\n",
            "Requirement already satisfied: pytz>=2020.1 in /usr/local/lib/python3.11/dist-packages (from pandas->datasets) (2025.2)\n",
            "Requirement already satisfied: tzdata>=2022.7 in /usr/local/lib/python3.11/dist-packages (from pandas->datasets) (2025.2)\n",
            "Requirement already satisfied: six>=1.5 in /usr/local/lib/python3.11/dist-packages (from python-dateutil>=2.8.2->pandas->datasets) (1.17.0)\n",
            "Downloading datasets-3.5.1-py3-none-any.whl (491 kB)\n",
            "\u001b[2K   \u001b[90m━━━━━━━━━━━━━━━━━━━━━━━━━━━━━━━━━━━━━━━━\u001b[0m \u001b[32m491.4/491.4 kB\u001b[0m \u001b[31m9.3 MB/s\u001b[0m eta \u001b[36m0:00:00\u001b[0m\n",
            "\u001b[?25hDownloading dill-0.3.8-py3-none-any.whl (116 kB)\n",
            "\u001b[2K   \u001b[90m━━━━━━━━━━━━━━━━━━━━━━━━━━━━━━━━━━━━━━━━\u001b[0m \u001b[32m116.3/116.3 kB\u001b[0m \u001b[31m11.4 MB/s\u001b[0m eta \u001b[36m0:00:00\u001b[0m\n",
            "\u001b[?25hDownloading fsspec-2025.3.0-py3-none-any.whl (193 kB)\n",
            "\u001b[2K   \u001b[90m━━━━━━━━━━━━━━━━━━━━━━━━━━━━━━━━━━━━━━━━\u001b[0m \u001b[32m193.6/193.6 kB\u001b[0m \u001b[31m18.9 MB/s\u001b[0m eta \u001b[36m0:00:00\u001b[0m\n",
            "\u001b[?25hDownloading multiprocess-0.70.16-py311-none-any.whl (143 kB)\n",
            "\u001b[2K   \u001b[90m━━━━━━━━━━━━━━━━━━━━━━━━━━━━━━━━━━━━━━━━\u001b[0m \u001b[32m143.5/143.5 kB\u001b[0m \u001b[31m15.1 MB/s\u001b[0m eta \u001b[36m0:00:00\u001b[0m\n",
            "\u001b[?25hDownloading xxhash-3.5.0-cp311-cp311-manylinux_2_17_x86_64.manylinux2014_x86_64.whl (194 kB)\n",
            "\u001b[2K   \u001b[90m━━━━━━━━━━━━━━━━━━━━━━━━━━━━━━━━━━━━━━━━\u001b[0m \u001b[32m194.8/194.8 kB\u001b[0m \u001b[31m16.5 MB/s\u001b[0m eta \u001b[36m0:00:00\u001b[0m\n",
            "\u001b[?25hInstalling collected packages: xxhash, fsspec, dill, multiprocess, datasets\n",
            "  Attempting uninstall: fsspec\n",
            "    Found existing installation: fsspec 2025.3.2\n",
            "    Uninstalling fsspec-2025.3.2:\n",
            "      Successfully uninstalled fsspec-2025.3.2\n",
            "\u001b[31mERROR: pip's dependency resolver does not currently take into account all the packages that are installed. This behaviour is the source of the following dependency conflicts.\n",
            "torch 2.6.0+cu124 requires nvidia-cublas-cu12==12.4.5.8; platform_system == \"Linux\" and platform_machine == \"x86_64\", but you have nvidia-cublas-cu12 12.5.3.2 which is incompatible.\n",
            "torch 2.6.0+cu124 requires nvidia-cuda-cupti-cu12==12.4.127; platform_system == \"Linux\" and platform_machine == \"x86_64\", but you have nvidia-cuda-cupti-cu12 12.5.82 which is incompatible.\n",
            "torch 2.6.0+cu124 requires nvidia-cuda-nvrtc-cu12==12.4.127; platform_system == \"Linux\" and platform_machine == \"x86_64\", but you have nvidia-cuda-nvrtc-cu12 12.5.82 which is incompatible.\n",
            "torch 2.6.0+cu124 requires nvidia-cuda-runtime-cu12==12.4.127; platform_system == \"Linux\" and platform_machine == \"x86_64\", but you have nvidia-cuda-runtime-cu12 12.5.82 which is incompatible.\n",
            "torch 2.6.0+cu124 requires nvidia-cudnn-cu12==9.1.0.70; platform_system == \"Linux\" and platform_machine == \"x86_64\", but you have nvidia-cudnn-cu12 9.3.0.75 which is incompatible.\n",
            "torch 2.6.0+cu124 requires nvidia-cufft-cu12==11.2.1.3; platform_system == \"Linux\" and platform_machine == \"x86_64\", but you have nvidia-cufft-cu12 11.2.3.61 which is incompatible.\n",
            "torch 2.6.0+cu124 requires nvidia-curand-cu12==10.3.5.147; platform_system == \"Linux\" and platform_machine == \"x86_64\", but you have nvidia-curand-cu12 10.3.6.82 which is incompatible.\n",
            "torch 2.6.0+cu124 requires nvidia-cusolver-cu12==11.6.1.9; platform_system == \"Linux\" and platform_machine == \"x86_64\", but you have nvidia-cusolver-cu12 11.6.3.83 which is incompatible.\n",
            "torch 2.6.0+cu124 requires nvidia-cusparse-cu12==12.3.1.170; platform_system == \"Linux\" and platform_machine == \"x86_64\", but you have nvidia-cusparse-cu12 12.5.1.3 which is incompatible.\n",
            "torch 2.6.0+cu124 requires nvidia-nvjitlink-cu12==12.4.127; platform_system == \"Linux\" and platform_machine == \"x86_64\", but you have nvidia-nvjitlink-cu12 12.5.82 which is incompatible.\n",
            "gcsfs 2025.3.2 requires fsspec==2025.3.2, but you have fsspec 2025.3.0 which is incompatible.\u001b[0m\u001b[31m\n",
            "\u001b[0mSuccessfully installed datasets-3.5.1 dill-0.3.8 fsspec-2025.3.0 multiprocess-0.70.16 xxhash-3.5.0\n"
          ]
        }
      ],
      "source": [
        "import torch\n",
        "import torch.nn as nn\n",
        "import torch.nn.functional as F\n",
        "from torch.utils.data import DataLoader, TensorDataset\n",
        "\n",
        "from transformers import BertTokenizer, BertModel\n",
        "from transformers import logging as transformers_logging\n",
        "transformers_logging.set_verbosity_error()  # Suppress warnings from transformers\n",
        "\n",
        "from nltk.corpus import stopwords\n",
        "from nltk.tokenize import word_tokenize\n",
        "from nltk.stem import WordNetLemmatizer\n",
        "\n",
        "from bs4 import BeautifulSoup\n",
        "from sklearn.model_selection import train_test_split\n",
        "from sklearn.metrics import accuracy_score, classification_report, confusion_matrix\n",
        "from torch.nn import Parameter\n",
        "import pandas as pd\n",
        "import numpy as np\n",
        "import string\n",
        "import time\n",
        "\n",
        "from collections import Counter\n",
        "from tqdm import tqdm\n",
        "\n",
        "import nltk\n",
        "nltk.download('punkt')\n",
        "nltk.download('stopwords')\n",
        "nltk.download('wordnet')\n",
        "\n",
        "!pip install -U datasets\n",
        "from datasets import load_dataset"
      ]
    },
    {
      "cell_type": "code",
      "source": [
        "# Set seed for reproducibility\n",
        "torch.manual_seed(42)\n",
        "np.random.seed(42)"
      ],
      "metadata": {
        "id": "F2qYUCEqXWKr"
      },
      "execution_count": null,
      "outputs": []
    },
    {
      "cell_type": "markdown",
      "source": [
        "# Data Preprocessing\n",
        "### Converts raw text data from HuggingFace into a cleaned format suitable for BERT and other NLP models"
      ],
      "metadata": {
        "id": "IHgcPo09e5tp"
      }
    },
    {
      "cell_type": "code",
      "source": [
        "class TextPreprocessor:\n",
        "    # INITIALIZE WITH BERT TOKENIZER\n",
        "    def __init__(self, pretrained_model_name='bert-base-uncased', max_len=50):\n",
        "        self.tokenizer = BertTokenizer.from_pretrained(pretrained_model_name)\n",
        "        self.max_len = max_len\n",
        "        # Create translation table once during initialization\n",
        "        self.punctuation_translator = str.maketrans('', '', string.punctuation)\n",
        "\n",
        "    # TEXT CLEANING - REMOVE HTML TAGS AND PUNCTUATION, CONVERT TO LOWERCASE\n",
        "    def clean_text(self, text):\n",
        "        # Skip BeautifulSoup for simple cases\n",
        "        text = re.sub(r'<[^>]+>', '', text)  # Faster than BeautifulSoup for basic HTML\n",
        "        return text.lower().translate(self.punctuation_translator)\n",
        "\n",
        "    # Vectorized version of clean_text for processing entire series at once\n",
        "    def clean_text_batch(self, text_series):\n",
        "        # Process the entire series at once using vectorized operations\n",
        "        text_series = text_series.str.replace(r'<[^>]+>', '', regex=True)\n",
        "        text_series = text_series.str.lower()\n",
        "        text_series = text_series.apply(lambda x: x.translate(self.punctuation_translator))\n",
        "        return text_series\n",
        "\n",
        "    # ENCODE TEXT WITH BERT TOKENIZER\n",
        "    def tokenize_and_encode(self, texts):\n",
        "        return self.tokenizer(\n",
        "            texts,\n",
        "            padding='max_length',\n",
        "            truncation=True,\n",
        "            max_length=self.max_len,\n",
        "            return_tensors='pt'\n",
        "        )\n",
        "\n",
        "    # PREPROCESS USING ALL ABOVE METHODS\n",
        "    def preprocess_dataset(self, df_or_dfs, text_column, label_column):\n",
        "        if not isinstance(df_or_dfs, list) or len(df_or_dfs) != 3:\n",
        "            raise ValueError(\"df_or_dfs must be a DataFrame or a list of DataFrames of size 3.\")\n",
        "\n",
        "        train_df, val_df, test_df = df_or_dfs\n",
        "\n",
        "        print(\"Cleaning text data...\")\n",
        "        # Use vectorized operations instead of apply\n",
        "        train_df[text_column] = self.clean_text_batch(train_df[text_column])\n",
        "        val_df[text_column] = self.clean_text_batch(val_df[text_column])\n",
        "        test_df[text_column] = self.clean_text_batch(test_df[text_column])\n",
        "\n",
        "        print(\"Tokenizing and encoding text data...\")\n",
        "        # Convert to lists only once before tokenization\n",
        "        train_texts = train_df[text_column].tolist()\n",
        "        val_texts = val_df[text_column].tolist()\n",
        "        test_texts = test_df[text_column].tolist()\n",
        "\n",
        "        train_encodings = self.tokenize_and_encode(train_texts)\n",
        "        val_encodings = self.tokenize_and_encode(val_texts)\n",
        "        test_encodings = self.tokenize_and_encode(test_texts)\n",
        "\n",
        "        # Convert labels to tensors directly from original dataframes\n",
        "        train_labels = torch.tensor(train_df[label_column].values)\n",
        "        val_labels = torch.tensor(val_df[label_column].values)\n",
        "        test_labels = torch.tensor(test_df[label_column].values)\n",
        "\n",
        "        print(f\"Train set: {len(train_df)} samples\")\n",
        "        print(f\"Validation set: {len(val_df)} samples\")\n",
        "        print(f\"Test set: {len(test_df)} samples\")\n",
        "\n",
        "        return (train_encodings['input_ids'], train_encodings['attention_mask'], train_labels,\n",
        "                val_encodings['input_ids'], val_encodings['attention_mask'], val_labels,\n",
        "                test_encodings['input_ids'], test_encodings['attention_mask'], test_labels)"
      ],
      "metadata": {
        "id": "q-hMl5nDbUrX"
      },
      "execution_count": null,
      "outputs": []
    },
    {
      "cell_type": "markdown",
      "source": [
        "# Quaternion Classes"
      ],
      "metadata": {
        "id": "cYXKcb3qfhmz"
      }
    },
    {
      "cell_type": "code",
      "source": [
        "class Quaternion:\n",
        "    # INITIALIZE TENSOR THAT WILL BE SPLIT INTO QUATERNION COMPONENTS\n",
        "    def __init__(self, tensor):\n",
        "        # ASSUME COMPONENTS CONCATENATED ALONG LAST DIMENSION\n",
        "        self.tensor = tensor\n",
        "        # Store the shape for faster processing\n",
        "        self.quat_dim = self.tensor.shape[-1] // 4\n",
        "        # Split only when needed (lazy evaluation)\n",
        "        self._components = None\n",
        "\n",
        "    @property\n",
        "    def components(self):\n",
        "        # Lazy initialization of components\n",
        "        if self._components is None:\n",
        "            self._components = torch.split(self.tensor, self.quat_dim, dim=-1)\n",
        "        return self._components\n",
        "\n",
        "    @property\n",
        "    def r(self):\n",
        "        return self.components[0]\n",
        "\n",
        "    @property\n",
        "    def i(self):\n",
        "        return self.components[1]\n",
        "\n",
        "    @property\n",
        "    def j(self):\n",
        "        return self.components[2]\n",
        "\n",
        "    @property\n",
        "    def k(self):\n",
        "        return self.components[3]\n",
        "\n",
        "    @classmethod\n",
        "    # CREATE QUATERNION FROM INPUT R, I, J, K COMPONENTS\n",
        "    def from_components(cls, r, i, j, k):\n",
        "        tensor = torch.cat([r, i, j, k], dim=-1)\n",
        "        return cls(tensor)\n",
        "\n",
        "    # COMPUTE HAMILTON PRODUCT BETWEEN TWO QUATERNIONS\n",
        "    def hamilton_product(self, other):\n",
        "        r1, i1, j1, k1 = self.r, self.i, self.j, self.k\n",
        "        r2, i2, j2, k2 = other.r, other.i, other.j, other.k\n",
        "\n",
        "        # Simplified condition check\n",
        "        is_matrix_mul = (r1.dim() == 2 and r2.dim() == 2 and r1.shape[-1] == r2.shape[-2])\n",
        "\n",
        "        if is_matrix_mul:\n",
        "            # Matrix multiplication - pre-allocate output tensors to optimize memory\n",
        "            batch_size = r1.size(0)\n",
        "            output_size = r2.size(-1)\n",
        "\n",
        "            r = torch.zeros(batch_size, output_size, device=r1.device)\n",
        "            i = torch.zeros(batch_size, output_size, device=r1.device)\n",
        "            j = torch.zeros(batch_size, output_size, device=r1.device)\n",
        "            k = torch.zeros(batch_size, output_size, device=r1.device)\n",
        "\n",
        "            # Use in-place operations where possible\n",
        "            torch.matmul(r1, r2, out=r)\n",
        "            r.sub_(torch.matmul(i1, i2))\n",
        "            r.sub_(torch.matmul(j1, j2))\n",
        "            r.sub_(torch.matmul(k1, k2))\n",
        "\n",
        "            torch.matmul(r1, i2, out=i)\n",
        "            i.add_(torch.matmul(i1, r2))\n",
        "            i.add_(torch.matmul(j1, k2))\n",
        "            i.sub_(torch.matmul(k1, j2))\n",
        "\n",
        "            torch.matmul(r1, j2, out=j)\n",
        "            j.sub_(torch.matmul(i1, k2))\n",
        "            j.add_(torch.matmul(j1, r2))\n",
        "            j.add_(torch.matmul(k1, i2))\n",
        "\n",
        "            torch.matmul(r1, k2, out=k)\n",
        "            k.add_(torch.matmul(i1, j2))\n",
        "            k.sub_(torch.matmul(j1, i2))\n",
        "            k.add_(torch.matmul(k1, r2))\n",
        "        else:\n",
        "            # Element-wise multiplication - use fused operations\n",
        "            r = r1 * r2 - i1 * i2 - j1 * j2 - k1 * k2\n",
        "            i = r1 * i2 + i1 * r2 + j1 * k2 - k1 * j2\n",
        "            j = r1 * j2 - i1 * k2 + j1 * r2 + k1 * i2\n",
        "            k = r1 * k2 + i1 * j2 - j1 * i2 + k1 * r2\n",
        "\n",
        "        # Pre-allocate tensor for output\n",
        "        output_tensor = torch.cat([r, i, j, k], dim=-1)\n",
        "        return Quaternion(output_tensor)\n",
        "\n",
        "    # COMPONENT-WISE ADDITION BETWEEN QUATERNIONS\n",
        "    def add(self, other):\n",
        "        # Directly add the tensors without component splitting\n",
        "        return Quaternion(self.tensor + other.tensor)\n",
        "\n",
        "    # CONVERT TO UNIT QUATERNION\n",
        "    def normalize(self):\n",
        "        # Calculate norm across all components at once\n",
        "        norm = torch.sqrt(torch.sum(self.tensor ** 2, dim=-1, keepdim=True) / 4)\n",
        "        return Quaternion(self.tensor / norm)\n",
        "\n",
        "    # CONJUGATE FORM - JUST NEGATE IMAGINARY PARTS\n",
        "    def conjugate(self):\n",
        "        # Create conjugate mask once [1, -1, -1, -1] repeated for each component\n",
        "        conj_mask = torch.ones_like(self.tensor)\n",
        "        conj_mask[..., self.quat_dim:] = -1\n",
        "        return Quaternion(self.tensor * conj_mask)\n",
        "\n",
        "    # CONVERT TO SINGLE CONCATENATED TENSOR\n",
        "    def as_tensor(self):\n",
        "        # Already have tensor, just ensure correct dimensions\n",
        "        tensor = self.tensor\n",
        "\n",
        "        # IF 2D TENSOR, UNSQUEEZE TO ADD A BATCH DIMENSION OF 1\n",
        "        if tensor.ndim == 2:\n",
        "            tensor = tensor.unsqueeze(0)\n",
        "        return tensor"
      ],
      "metadata": {
        "id": "suIotr12cIwG"
      },
      "execution_count": null,
      "outputs": []
    },
    {
      "cell_type": "code",
      "source": [
        "class QuaternionTransformation(nn.Module):\n",
        "    def __init__(self, input_dim, output_dim, activation=None, init=None):\n",
        "        super(QuaternionTransformation, self).__init__()\n",
        "\n",
        "        # Quaternion input dimension is divided by 4 (for r, i, j, k components)\n",
        "        self.input_dim = input_dim // 4\n",
        "        self.output_dim = output_dim // 4\n",
        "        self.activation = activation\n",
        "\n",
        "        # Create a single weight matrix for all components\n",
        "        # This allows for more efficient operations in some backends\n",
        "        self.all_weights = Parameter(torch.Tensor(4, self.input_dim, self.output_dim))\n",
        "\n",
        "        # Initialize the weights\n",
        "        if init is None:\n",
        "            nn.init.xavier_uniform_(self.all_weights)\n",
        "        else:\n",
        "            # Apply custom initialization if provided\n",
        "            for i in range(4):\n",
        "                self.all_weights.data[i] = init(self.all_weights.data[i])\n",
        "\n",
        "    @property\n",
        "    def r_weight(self):\n",
        "        return self.all_weights[0]\n",
        "\n",
        "    @property\n",
        "    def i_weight(self):\n",
        "        return self.all_weights[1]\n",
        "\n",
        "    @property\n",
        "    def j_weight(self):\n",
        "        return self.all_weights[2]\n",
        "\n",
        "    @property\n",
        "    def k_weight(self):\n",
        "        return self.all_weights[3]\n",
        "\n",
        "    # PERFORM QUATERNION TRANSFORMATION ON INPUT TENSOR\n",
        "    def forward(self, x):\n",
        "        # INPUT TENSOR SHAPE:\n",
        "        #   FOR 2D - [batch_size, input_dim]\n",
        "        #   FOR 3D - [batch_size, seq_len, input_dim]\n",
        "        # OUTPUT TENSOR SHAPE:\n",
        "        #   FOR 2D - [batch_size, output_dim*4]\n",
        "        #   FOR 3D - [batch_size, seq_len, output_dim*4]\n",
        "\n",
        "        # Store original shape for reshaping at the end\n",
        "        original_shape = x.shape\n",
        "        is_3d_input = x.ndim == 3\n",
        "\n",
        "        if is_3d_input:\n",
        "            # Reshape once for all operations\n",
        "            batch_size, seq_len, input_dim = original_shape\n",
        "            x = x.reshape(-1, input_dim)\n",
        "\n",
        "        # Split input into quaternion components (r, i, j, k)\n",
        "        quat_dim = x.shape[-1] // 4\n",
        "        r_x, i_x, j_x, k_x = torch.split(x, quat_dim, dim=-1)\n",
        "\n",
        "        # Use weight components directly instead of creating a quaternion object\n",
        "        r_w, i_w, j_w, k_w = self.r_weight, self.i_weight, self.j_weight, self.k_weight\n",
        "\n",
        "        # Perform Hamilton product more efficiently\n",
        "        # Pre-allocate tensors for output\n",
        "        r_out = torch.matmul(r_x, r_w) - torch.matmul(i_x, i_w) - torch.matmul(j_x, j_w) - torch.matmul(k_x, k_w)\n",
        "        i_out = torch.matmul(r_x, i_w) + torch.matmul(i_x, r_w) + torch.matmul(j_x, k_w) - torch.matmul(k_x, j_w)\n",
        "        j_out = torch.matmul(r_x, j_w) - torch.matmul(i_x, k_w) + torch.matmul(j_x, r_w) + torch.matmul(k_x, i_w)\n",
        "        k_out = torch.matmul(r_x, k_w) + torch.matmul(i_x, j_w) - torch.matmul(j_x, i_w) + torch.matmul(k_x, r_w)\n",
        "\n",
        "        # Concatenate output components\n",
        "        output = torch.cat([r_out, i_out, j_out, k_out], dim=-1)\n",
        "\n",
        "        # Apply activation function if provided\n",
        "        if self.activation is not None:\n",
        "            output = self.activation(output)\n",
        "\n",
        "        if is_3d_input:\n",
        "            # Reshape back to original 3D shape\n",
        "            output = output.view(batch_size, seq_len, self.output_dim * 4)\n",
        "\n",
        "        return output"
      ],
      "metadata": {
        "id": "d1o36VTfi-LT"
      },
      "execution_count": null,
      "outputs": []
    },
    {
      "cell_type": "code",
      "source": [
        "class QuaternionSelfAttention(nn.Module):\n",
        "    def __init__(self, input_dim, output_dim, dropout_rate=0.0):\n",
        "        super(QuaternionSelfAttention, self).__init__()\n",
        "\n",
        "        # Ensure output_dim is divisible by 4 for quaternion representation\n",
        "        assert output_dim % 4 == 0, \"output_dim must be divisible by 4 for quaternion representation.\"\n",
        "\n",
        "        self.output_dim = output_dim\n",
        "        self.input_dim = input_dim\n",
        "        self.dk = self.output_dim // 4\n",
        "        self.dropout_rate = dropout_rate\n",
        "\n",
        "        # Use our optimized QuaternionTransformation\n",
        "        self.q_transform = QuaternionTransformation(self.output_dim, self.output_dim)\n",
        "        self.k_transform = QuaternionTransformation(self.output_dim, self.output_dim)\n",
        "        self.v_transform = QuaternionTransformation(self.output_dim, self.output_dim)\n",
        "\n",
        "        # Pre-compute the scaling factor\n",
        "        self.scale_factor = torch.sqrt(torch.tensor(self.dk, dtype=torch.float32))\n",
        "\n",
        "    # PERFORM DOT PRODUCT ATTENTION BETWEEN TWO QUATERNION SEQUENCES - OPTIMIZED\n",
        "    def quaternion_attention(self, a, b):\n",
        "        # Ensure the input dimensions are divisible by 4\n",
        "        assert a.size(-1) % 4 == 0, \"Last dimension of input tensor must be divisible by 4 for quaternion representation.\"\n",
        "        assert b.size(-1) % 4 == 0, \"Last dimension of input tensor must be divisible by 4 for quaternion representation.\"\n",
        "\n",
        "        # Split inputs into quaternion components - more efficiently\n",
        "        quat_dim = a.size(-1) // 4\n",
        "        ar, ai, aj, ak = torch.split(a, quat_dim, dim=-1)\n",
        "        br, bi, bj, bk = torch.split(b, quat_dim, dim=-1)\n",
        "\n",
        "        # Compute the quaternion Hamilton product - pre-allocate output tensors\n",
        "        r = (torch.matmul(ar, br.transpose(-1, -2)) -\n",
        "             torch.matmul(ai, bi.transpose(-1, -2)) -\n",
        "             torch.matmul(aj, bj.transpose(-1, -2)) -\n",
        "             torch.matmul(ak, bk.transpose(-1, -2)))\n",
        "\n",
        "        i = (torch.matmul(ar, bi.transpose(-1, -2)) +\n",
        "             torch.matmul(ai, br.transpose(-1, -2)) +\n",
        "             torch.matmul(aj, bk.transpose(-1, -2)) -\n",
        "             torch.matmul(ak, bj.transpose(-1, -2)))\n",
        "\n",
        "        j = (torch.matmul(ar, bj.transpose(-1, -2)) -\n",
        "             torch.matmul(ai, bk.transpose(-1, -2)) +\n",
        "             torch.matmul(aj, br.transpose(-1, -2)) +\n",
        "             torch.matmul(ak, bi.transpose(-1, -2)))\n",
        "\n",
        "        k = (torch.matmul(ar, bk.transpose(-1, -2)) +\n",
        "             torch.matmul(ai, bj.transpose(-1, -2)) -\n",
        "             torch.matmul(aj, bi.transpose(-1, -2)) +\n",
        "             torch.matmul(ak, br.transpose(-1, -2)))\n",
        "\n",
        "        # Create quaternion object directly with components\n",
        "        return Quaternion.from_components(r, i, j, k)\n",
        "\n",
        "    # FORWARD PASS - OPTIMIZED\n",
        "    def forward(self, X):\n",
        "        # Store original shape\n",
        "        original_shape = X.shape\n",
        "        is_3d_input = X.ndim == 3\n",
        "\n",
        "        # Compute quaternion transformations for Q, K, V\n",
        "        Q = self.q_transform(X)  # Shape: [batch_size, seq_len, output_dim]\n",
        "        K = self.k_transform(X)  # Shape: [batch_size, seq_len, output_dim]\n",
        "        V = self.v_transform(X)  # Shape: [batch_size, seq_len, output_dim]\n",
        "\n",
        "        # Split V into quaternion components - only once\n",
        "        V_comps = torch.split(V, self.dk, dim=-1)\n",
        "        V_r, V_i, V_j, V_k = V_comps\n",
        "\n",
        "        # Compute quaternion attention weights\n",
        "        attention_weights = self.quaternion_attention(Q, K)\n",
        "\n",
        "        # Pre-compute scaling factor once - already stored as instance variable\n",
        "        scaled_sqrt_dk = self.scale_factor\n",
        "\n",
        "        # Apply component-wise softmax normalization with vectorized scaling\n",
        "        attention_weights_r = F.softmax(attention_weights.r / scaled_sqrt_dk, dim=-1)\n",
        "        attention_weights_i = F.softmax(attention_weights.i / scaled_sqrt_dk, dim=-1)\n",
        "        attention_weights_j = F.softmax(attention_weights.j / scaled_sqrt_dk, dim=-1)\n",
        "        attention_weights_k = F.softmax(attention_weights.k / scaled_sqrt_dk, dim=-1)\n",
        "\n",
        "        # Apply dropout to the attention weights all at once using functional API\n",
        "        if self.dropout_rate > 0 and self.training:\n",
        "            attention_weights_r = F.dropout(attention_weights_r, p=self.dropout_rate, training=self.training)\n",
        "            attention_weights_i = F.dropout(attention_weights_i, p=self.dropout_rate, training=self.training)\n",
        "            attention_weights_j = F.dropout(attention_weights_j, p=self.dropout_rate, training=self.training)\n",
        "            attention_weights_k = F.dropout(attention_weights_k, p=self.dropout_rate, training=self.training)\n",
        "\n",
        "        # Apply the attention weights to the V components - using batch matrix multiplication\n",
        "        attention_r = torch.bmm(attention_weights_r, V_r) if is_3d_input else attention_weights_r @ V_r\n",
        "        attention_i = torch.bmm(attention_weights_i, V_i) if is_3d_input else attention_weights_i @ V_i\n",
        "        attention_j = torch.bmm(attention_weights_j, V_j) if is_3d_input else attention_weights_j @ V_j\n",
        "        attention_k = torch.bmm(attention_weights_k, V_k) if is_3d_input else attention_weights_k @ V_k\n",
        "\n",
        "        # Concatenate the attended quaternion components\n",
        "        attention_output = torch.cat([attention_r, attention_i, attention_j, attention_k], dim=-1)\n",
        "\n",
        "        return attention_output"
      ],
      "metadata": {
        "id": "_l7VQVfTjFYf"
      },
      "execution_count": null,
      "outputs": []
    },
    {
      "cell_type": "code",
      "source": [
        "class MultiHeadQuaternionSelfAttention(nn.Module):\n",
        "    def __init__(self, input_dim, output_dim, num_heads=4, dropout_rate=0.0):\n",
        "        super(MultiHeadQuaternionSelfAttention, self).__init__()\n",
        "\n",
        "        self.output_dim = output_dim\n",
        "        self.num_heads = num_heads\n",
        "        self.input_dim = input_dim\n",
        "\n",
        "        # Ensure output_dim is divisible by 4 * num_heads for quaternion-based operations\n",
        "        assert self.output_dim % (4 * num_heads) == 0, \"output_dim must be divisible by 4 * num_heads.\"\n",
        "\n",
        "        # Compute the output dimension for each head\n",
        "        self.output_dim_per_head = self.output_dim // num_heads\n",
        "        self.dropout_rate = dropout_rate\n",
        "\n",
        "        # Instead of creating many separate attention modules, create shared weight matrices\n",
        "        # with appropriate dimensionality, which can be more efficiently parallelized\n",
        "        self.q_projection = QuaternionTransformation(input_dim, self.output_dim)\n",
        "        self.k_projection = QuaternionTransformation(input_dim, self.output_dim)\n",
        "        self.v_projection = QuaternionTransformation(input_dim, self.output_dim)\n",
        "\n",
        "        # Final output projection\n",
        "        self.output_transform = QuaternionTransformation(self.output_dim, output_dim)\n",
        "\n",
        "        # Pre-compute the scale factor\n",
        "        self.scale_factor = torch.sqrt(torch.tensor(self.output_dim_per_head // 4, dtype=torch.float32))\n",
        "\n",
        "    def split_heads(self, x):\n",
        "        # Reshape input for multi-head attention\n",
        "        batch_size, seq_len, _ = x.shape\n",
        "\n",
        "        # Reshape: [batch_size, seq_len, num_heads, output_dim_per_head]\n",
        "        x = x.view(batch_size, seq_len, self.num_heads, self.output_dim_per_head)\n",
        "\n",
        "        # Transpose: [batch_size, num_heads, seq_len, output_dim_per_head]\n",
        "        return x.transpose(1, 2)\n",
        "\n",
        "    def combine_heads(self, x):\n",
        "        # Combine multi-head attention results\n",
        "        batch_size, _, seq_len, _ = x.shape\n",
        "\n",
        "        # Transpose: [batch_size, seq_len, num_heads, output_dim_per_head]\n",
        "        x = x.transpose(1, 2)\n",
        "\n",
        "        # Reshape: [batch_size, seq_len, output_dim]\n",
        "        return x.reshape(batch_size, seq_len, self.output_dim)\n",
        "\n",
        "    def forward(self, X):\n",
        "        # Get input tensor dimensions and store for reshaping\n",
        "        batch_size, seq_len, _ = X.shape\n",
        "\n",
        "        # Apply projections to create Q, K, V\n",
        "        Q = self.q_projection(X)  # [batch_size, seq_len, output_dim]\n",
        "        K = self.k_projection(X)  # [batch_size, seq_len, output_dim]\n",
        "        V = self.v_projection(X)  # [batch_size, seq_len, output_dim]\n",
        "\n",
        "        # Split heads for Q, K, V\n",
        "        Q = self.split_heads(Q)  # [batch_size, num_heads, seq_len, output_dim_per_head]\n",
        "        K = self.split_heads(K)  # [batch_size, num_heads, seq_len, output_dim_per_head]\n",
        "        V = self.split_heads(V)  # [batch_size, num_heads, seq_len, output_dim_per_head]\n",
        "\n",
        "        # Split into quaternion components\n",
        "        head_dim = self.output_dim_per_head // 4\n",
        "\n",
        "        # Split Q, K components\n",
        "        Q_comps = torch.split(Q, head_dim, dim=-1)\n",
        "        Q_r, Q_i, Q_j, Q_k = Q_comps\n",
        "\n",
        "        K_comps = torch.split(K, head_dim, dim=-1)\n",
        "        K_r, K_i, K_j, K_k = K_comps\n",
        "\n",
        "        V_comps = torch.split(V, head_dim, dim=-1)\n",
        "        V_r, V_i, V_j, V_k = V_comps\n",
        "\n",
        "        # Compute attention scores using quaternion Hamilton product\n",
        "        # Pre-allocate tensors for matrix multiplications\n",
        "        scores_r = (torch.matmul(Q_r, K_r.transpose(-1, -2)) -\n",
        "                    torch.matmul(Q_i, K_i.transpose(-1, -2)) -\n",
        "                    torch.matmul(Q_j, K_j.transpose(-1, -2)) -\n",
        "                    torch.matmul(Q_k, K_k.transpose(-1, -2)))\n",
        "\n",
        "        scores_i = (torch.matmul(Q_r, K_i.transpose(-1, -2)) +\n",
        "                    torch.matmul(Q_i, K_r.transpose(-1, -2)) +\n",
        "                    torch.matmul(Q_j, K_k.transpose(-1, -2)) -\n",
        "                    torch.matmul(Q_k, K_j.transpose(-1, -2)))\n",
        "\n",
        "        scores_j = (torch.matmul(Q_r, K_j.transpose(-1, -2)) -\n",
        "                    torch.matmul(Q_i, K_k.transpose(-1, -2)) +\n",
        "                    torch.matmul(Q_j, K_r.transpose(-1, -2)) +\n",
        "                    torch.matmul(Q_k, K_i.transpose(-1, -2)))\n",
        "\n",
        "        scores_k = (torch.matmul(Q_r, K_k.transpose(-1, -2)) +\n",
        "                    torch.matmul(Q_i, K_j.transpose(-1, -2)) -\n",
        "                    torch.matmul(Q_j, K_i.transpose(-1, -2)) +\n",
        "                    torch.matmul(Q_k, K_r.transpose(-1, -2)))\n",
        "\n",
        "        # Scale attention scores\n",
        "        scores_r = scores_r / self.scale_factor\n",
        "        scores_i = scores_i / self.scale_factor\n",
        "        scores_j = scores_j / self.scale_factor\n",
        "        scores_k = scores_k / self.scale_factor\n",
        "\n",
        "        # Apply softmax to get attention weights\n",
        "        weights_r = F.softmax(scores_r, dim=-1)\n",
        "        weights_i = F.softmax(scores_i, dim=-1)\n",
        "        weights_j = F.softmax(scores_j, dim=-1)\n",
        "        weights_k = F.softmax(scores_k, dim=-1)\n",
        "\n",
        "        # Apply dropout if needed\n",
        "        if self.dropout_rate > 0 and self.training:\n",
        "            weights_r = F.dropout(weights_r, p=self.dropout_rate, training=self.training)\n",
        "            weights_i = F.dropout(weights_i, p=self.dropout_rate, training=self.training)\n",
        "            weights_j = F.dropout(weights_j, p=self.dropout_rate, training=self.training)\n",
        "            weights_k = F.dropout(weights_k, p=self.dropout_rate, training=self.training)\n",
        "\n",
        "        # Apply attention weights to values\n",
        "        context_r = torch.matmul(weights_r, V_r)\n",
        "        context_i = torch.matmul(weights_i, V_i)\n",
        "        context_j = torch.matmul(weights_j, V_j)\n",
        "        context_k = torch.matmul(weights_k, V_k)\n",
        "\n",
        "        # Concatenate quaternion components\n",
        "        context = torch.cat([context_r, context_i, context_j, context_k], dim=-1)\n",
        "\n",
        "        # Combine heads\n",
        "        context = self.combine_heads(context)\n",
        "\n",
        "        # Apply output projection\n",
        "        output = self.output_transform(context)\n",
        "\n",
        "        return output"
      ],
      "metadata": {
        "id": "gAdtyQF7jBDC"
      },
      "execution_count": null,
      "outputs": []
    },
    {
      "cell_type": "markdown",
      "source": [
        "# Model Definition\n",
        "### To implement full quatformer, replace nn.Linear() with QuaternionTransformation() - will increase compute time"
      ],
      "metadata": {
        "id": "Mc6i6LJzlUsq"
      }
    },
    {
      "cell_type": "code",
      "source": [
        "# ADD POSITIONAL INFO TO TOKEN EMBEDDINGS\n",
        "class LearnablePositionalEncoding(nn.Module):\n",
        "    def __init__(self, max_len, dmodel, dropout, padding_idx=None):\n",
        "        super(LearnablePositionalEncoding, self).__init__()\n",
        "        self.dropout = nn.Dropout(dropout)\n",
        "\n",
        "        # Learn position embeddings directly, initialized with small random values\n",
        "        self.pos_encoding = nn.Parameter(torch.zeros(1, max_len, dmodel))\n",
        "        nn.init.normal_(self.pos_encoding, mean=0, std=0.1)\n",
        "\n",
        "        # Set padding positions to zero\n",
        "        if padding_idx is not None:\n",
        "            with torch.no_grad():\n",
        "                self.pos_encoding.data[:, padding_idx, :] = 0.0\n",
        "\n",
        "    def forward(self, embedd):\n",
        "        # Use broadcasting to add positional encodings\n",
        "        embedd = embedd + self.pos_encoding[:, :embedd.size(1), :]\n",
        "        return self.dropout(embedd)"
      ],
      "metadata": {
        "id": "_xsSU4qKrrYw"
      },
      "execution_count": null,
      "outputs": []
    },
    {
      "cell_type": "code",
      "source": [
        "class TransformerBlockQuaternions(nn.Module):\n",
        "    def __init__(self, dmodel, ffnn_hidden_size, num_heads, dropout):\n",
        "        super(TransformerBlockQuaternions, self).__init__()\n",
        "\n",
        "        # Multi-head self-attention with quaternions\n",
        "        self.attention = MultiHeadQuaternionSelfAttention(\n",
        "            input_dim=dmodel,\n",
        "            output_dim=dmodel,\n",
        "            num_heads=num_heads,\n",
        "            dropout_rate=dropout\n",
        "        )\n",
        "\n",
        "        # Use PyTorch's optimized LayerNorm\n",
        "        self.layer_norm1 = nn.LayerNorm(dmodel)\n",
        "\n",
        "        # Full QFFN\n",
        "        # self.ffnn = nn.Sequential(\n",
        "        #     QuaternionTransformation(dmodel, ffnn_hidden_size),\n",
        "        #     nn.ReLU(),\n",
        "        #     nn.Dropout(dropout),\n",
        "        #     QuaternionTransformation(ffnn_hidden_size, dmodel)\n",
        "        # )\n",
        "\n",
        "        # Partial QFFN\n",
        "        self.ffnn = nn.Sequential(\n",
        "            nn.Linear(dmodel, ffnn_hidden_size),\n",
        "            nn.ReLU(),\n",
        "            nn.Dropout(dropout),\n",
        "            nn.Linear(ffnn_hidden_size, dmodel)\n",
        "        )\n",
        "\n",
        "        self.layer_norm2 = nn.LayerNorm(dmodel)\n",
        "        self.dropout = nn.Dropout(dropout)\n",
        "\n",
        "    def forward(self, x):\n",
        "        # Self-attention with residual connection and layer normalization\n",
        "        attn_out = self.attention(x)\n",
        "        x = self.layer_norm1(x + self.dropout(attn_out))\n",
        "\n",
        "        # Feed-forward network with residual connection and layer normalization\n",
        "        ffnn_out = self.ffnn(x)\n",
        "        x = self.layer_norm2(x + self.dropout(ffnn_out))\n",
        "\n",
        "        return x"
      ],
      "metadata": {
        "id": "x9AH7q6_rsF2"
      },
      "execution_count": null,
      "outputs": []
    },
    {
      "cell_type": "code",
      "source": [
        "# MODEL INTEGRATING BERT EMBEDDINGS\n",
        "class QuaternionsTransformerModel(nn.Module):\n",
        "    def __init__(self, pretrained_model_name='bert-base-uncased', output_size=3,\n",
        "                 n_layers=6, ffnn_hidden_size=None, num_heads=4, dropout=0.1, pooling='max'):\n",
        "        super(QuaternionsTransformerModel, self).__init__()\n",
        "\n",
        "        # BERT model for embeddings - use from_pretrained with cache\n",
        "        self.bert = BertModel.from_pretrained(pretrained_model_name, add_pooling_layer=False)\n",
        "\n",
        "        self.dropout = nn.Dropout(dropout)\n",
        "        self.pooling = pooling\n",
        "\n",
        "        dmodel = self.bert.config.hidden_size  # Typically 768 for bert-base\n",
        "\n",
        "        if ffnn_hidden_size is None:\n",
        "            ffnn_hidden_size = dmodel * 4\n",
        "\n",
        "        # Positional encoding\n",
        "        self.pos_encoding = LearnablePositionalEncoding(\n",
        "            max_len=512,\n",
        "            dmodel=dmodel,\n",
        "            dropout=dropout,\n",
        "            padding_idx=0\n",
        "        )\n",
        "\n",
        "        # Use ModuleList for efficient instantiation of transformer blocks\n",
        "        self.blocks = nn.ModuleList([\n",
        "            TransformerBlockQuaternions(\n",
        "                dmodel=dmodel,\n",
        "                ffnn_hidden_size=ffnn_hidden_size,\n",
        "                num_heads=num_heads,\n",
        "                dropout=dropout\n",
        "            )\n",
        "            for _ in range(n_layers)\n",
        "        ])\n",
        "\n",
        "        # Layer normalization\n",
        "        self.layer_norm = nn.LayerNorm(dmodel)\n",
        "\n",
        "        # Final classification layer\n",
        "        self.fc = nn.Linear(dmodel, output_size)\n",
        "\n",
        "        # Freeze BERT parameters for efficiency (optional)\n",
        "        # for param in self.bert.parameters():\n",
        "        #     param.requires_grad = False\n",
        "\n",
        "    def forward(self, input_ids, attention_mask):\n",
        "        # Get BERT embeddings\n",
        "        if not self.bert.training:\n",
        "            with torch.no_grad():\n",
        "                outputs = self.bert(input_ids=input_ids, attention_mask=attention_mask)\n",
        "        else:\n",
        "            outputs = self.bert(input_ids=input_ids, attention_mask=attention_mask)\n",
        "\n",
        "        x = outputs.last_hidden_state  # Shape: [batch_size, seq_len, hidden_size]\n",
        "\n",
        "        # Apply positional encoding\n",
        "        x = self.pos_encoding(x)\n",
        "\n",
        "        # Apply dropout\n",
        "        x = self.dropout(x)\n",
        "\n",
        "        # Apply transformer blocks\n",
        "        for block in self.blocks:\n",
        "            x = block(x)\n",
        "\n",
        "        # Apply layer normalization\n",
        "        x = self.layer_norm(x)\n",
        "\n",
        "        # Pooling - use efficient operations\n",
        "        if self.pooling == 'max':\n",
        "            # More efficient max pooling using adaptive_max_pool1d\n",
        "            x = F.adaptive_max_pool1d(x.transpose(1, 2), 1).squeeze(-1)\n",
        "        else:  # Average Pooling\n",
        "            # Masked average pooling for efficiency\n",
        "            # Create a float mask from the boolean attention mask\n",
        "            mask = attention_mask.unsqueeze(-1).float()  # [batch_size, seq_len, 1]\n",
        "\n",
        "            # Apply mask and calculate sum\n",
        "            masked_x = x * mask\n",
        "\n",
        "            # Sum along sequence dimension\n",
        "            x = masked_x.sum(dim=1)\n",
        "\n",
        "            # Divide by the number of non-padding tokens (sum of mask)\n",
        "            x = x / (mask.sum(dim=1) + 1e-8)  # Add epsilon to avoid division by zero\n",
        "\n",
        "        # Final classification layer\n",
        "        logits = self.fc(x)\n",
        "\n",
        "        return logits"
      ],
      "metadata": {
        "id": "e6gsw900dKgV"
      },
      "execution_count": null,
      "outputs": []
    },
    {
      "cell_type": "markdown",
      "source": [
        "# Additional Functions"
      ],
      "metadata": {
        "id": "2O-6ODQUn4p9"
      }
    },
    {
      "cell_type": "code",
      "source": [
        "def create_dataloader(input_ids, attention_mask, labels, batch_size):\n",
        "    dataset = TensorDataset(input_ids, attention_mask, labels)\n",
        "    return DataLoader(dataset, batch_size=batch_size, shuffle=True)\n",
        "\n",
        "def count_parameters(model):\n",
        "    return sum(p.numel() for p in model.parameters() if p.requires_grad)"
      ],
      "metadata": {
        "id": "yE-oAVFEd280"
      },
      "execution_count": null,
      "outputs": []
    },
    {
      "cell_type": "markdown",
      "source": [
        "# Training and Eval"
      ],
      "metadata": {
        "id": "y6FrkW52n_5T"
      }
    },
    {
      "cell_type": "code",
      "source": [
        "def train_epoch(model, dataloader, criterion, optimizer, device):\n",
        "\n",
        "    model.train()\n",
        "    total_loss = 0\n",
        "\n",
        "    for batch in tqdm(dataloader, desc=\"Training\", leave=False):\n",
        "        input_ids, attention_mask, labels = [b.to(device) for b in batch]\n",
        "\n",
        "        optimizer.zero_grad()\n",
        "        outputs = model(input_ids, attention_mask)\n",
        "        loss = criterion(outputs, labels)\n",
        "        loss.backward()\n",
        "        optimizer.step()\n",
        "\n",
        "        total_loss += loss.item()\n",
        "\n",
        "    avg_loss = total_loss / len(dataloader)\n",
        "    return avg_loss\n",
        "\n",
        "def eval_model(model, dataloader, criterion, device):\n",
        "\n",
        "    model.eval()\n",
        "    total_loss = 0\n",
        "    correct_preds = 0\n",
        "    total_preds = 0\n",
        "\n",
        "    all_preds = []\n",
        "    all_labels = []\n",
        "\n",
        "    with torch.no_grad():\n",
        "        for batch in tqdm(dataloader, desc=\"Evaluating\", leave=False):\n",
        "            input_ids, attention_mask, labels = [b.to(device) for b in batch]\n",
        "            outputs = model(input_ids, attention_mask)\n",
        "            loss = criterion(outputs, labels)\n",
        "            total_loss += loss.item()\n",
        "\n",
        "            _, preds = torch.max(outputs, dim=1)\n",
        "            correct_preds += torch.sum(preds == labels)\n",
        "            total_preds += labels.size(0)\n",
        "\n",
        "            all_preds.extend(preds.cpu().numpy())\n",
        "            all_labels.extend(labels.cpu().numpy())\n",
        "\n",
        "    avg_loss = total_loss / len(dataloader)\n",
        "    accuracy = correct_preds.double() / total_preds\n",
        "    return avg_loss, accuracy.item(), all_preds, all_labels"
      ],
      "metadata": {
        "id": "he4ijo86d7gj"
      },
      "execution_count": null,
      "outputs": []
    },
    {
      "cell_type": "markdown",
      "source": [
        "# Main Workflow"
      ],
      "metadata": {
        "id": "TmSQAsA-oEiB"
      }
    },
    {
      "cell_type": "code",
      "source": [
        "def main():\n",
        "    start_time = time.time()\n",
        "\n",
        "    train_dataset = load_dataset(\"sjyuxyz/financial-sentiment-analysis\", split=\"train\")\n",
        "    test_dataset = load_dataset(\"sjyuxyz/financial-sentiment-analysis\", split=\"test\")\n",
        "    valid_dataset = load_dataset(\"sjyuxyz/financial-sentiment-analysis\", split=\"valid\")\n",
        "    train_data = pd.DataFrame(train_dataset)\n",
        "    test_data = pd.DataFrame(test_dataset)\n",
        "    valid_data = pd.DataFrame(valid_dataset)\n",
        "\n",
        "    # Initialize the TextPreprocessor\n",
        "    preprocessor = TextPreprocessor(pretrained_model_name='google/bert_uncased_L-4_H-256_A-4', max_len=50)\n",
        "    (train_input_ids, train_attention_mask, train_labels,\n",
        "     val_input_ids, val_attention_mask, val_labels,\n",
        "     test_input_ids, test_attention_mask, test_labels) = preprocessor.preprocess_dataset(\n",
        "        [train_data,test_data,valid_data], text_column='text', label_column='label'\n",
        "    )\n",
        "\n",
        "    # Create DataLoader\n",
        "    batch_size = 64  # Adjust based on your hardware capabilities\n",
        "\n",
        "    train_loader = create_dataloader(train_input_ids, train_attention_mask, train_labels, batch_size)\n",
        "    val_loader = create_dataloader(val_input_ids, val_attention_mask, val_labels, batch_size)\n",
        "    test_loader = create_dataloader(test_input_ids, test_attention_mask, test_labels, batch_size)\n",
        "\n",
        "    # Initialize Model, Loss, Optimizer\n",
        "    device = torch.device('cuda' if torch.cuda.is_available() else 'cpu')\n",
        "    print(f\"Using device: {device}\")\n",
        "\n",
        "    # Define model parameters\n",
        "    pretrained_model_name = 'google/bert_uncased_L-4_H-256_A-4'\n",
        "    output_size = 3           # Number of classes: neutral, positive, negative\n",
        "    n_layers = 27             # Number of Transformer blocks; increase for better performance\n",
        "    ffnn_hidden_size = 4096   # If None, defaults to dmodel * 4\n",
        "    num_heads = 8             # Number of attention heads\n",
        "    dropout = 0.1\n",
        "    pooling = 'max'           # 'max' or 'avg'\n",
        "\n",
        "    # Initialize the model\n",
        "    model = QuaternionsTransformerModel(\n",
        "        pretrained_model_name=pretrained_model_name,\n",
        "        output_size=output_size,\n",
        "        n_layers=n_layers,\n",
        "        ffnn_hidden_size=ffnn_hidden_size,\n",
        "        num_heads=num_heads,\n",
        "        dropout=dropout,\n",
        "        pooling=pooling\n",
        "    )\n",
        "    model.to(device)\n",
        "    print(count_parameters(model))\n",
        "\n",
        "    # Define loss function and optimizer\n",
        "    criterion = nn.CrossEntropyLoss()\n",
        "    optimizer = torch.optim.Adam(model.parameters(), lr=2e-5)\n",
        "\n",
        "    # ----------------------------\n",
        "    # Training Loop: Warning - Full quaternion implementation will increase computation time\n",
        "    num_epochs = 8\n",
        "    best_val_accuracy = 0\n",
        "\n",
        "    for epoch in range(num_epochs):\n",
        "        print(f\"\\nEpoch {epoch + 1}/{num_epochs}\")\n",
        "\n",
        "        train_loss = train_epoch(model, train_loader, criterion, optimizer, device)\n",
        "        val_loss, val_accuracy, val_preds, val_labels_true = eval_model(model, val_loader, criterion, device)\n",
        "\n",
        "        print(f\"Train Loss: {train_loss:.4f}\")\n",
        "        print(f\"Validation Loss: {val_loss:.4f} | Validation Accuracy: {val_accuracy:.4f}\")\n",
        "\n",
        "        # Save the model if validation accuracy improves\n",
        "        if val_accuracy > best_val_accuracy:\n",
        "            best_val_accuracy = val_accuracy\n",
        "            torch.save(model.state_dict(), 'best_quaternions_transformer.pt')\n",
        "            print(\"Model saved.\")\n",
        "\n",
        "    # ----------------------------\n",
        "    # Evaluation on Test Set\n",
        "    # Load the best model\n",
        "    model.load_state_dict(torch.load('best_quaternions_transformer.pt'))\n",
        "\n",
        "    test_loss, test_accuracy, test_preds, test_labels_true = eval_model(model, test_loader, criterion, device)\n",
        "    print(f\"\\nTest Loss: {test_loss:.4f} | Test Accuracy: {test_accuracy:.4f}\")\n",
        "\n",
        "    # Detailed Classification Report\n",
        "    print(\"\\nClassification Report:\")\n",
        "    print(classification_report(test_labels_true, test_preds, target_names=['neutral', 'positive', 'negative']))\n",
        "\n",
        "    # Confusion Matrix\n",
        "    print(\"Confusion Matrix:\")\n",
        "    print(confusion_matrix(test_labels_true, test_preds))\n",
        "    print(count_parameters(model))\n",
        "\n",
        "    end_time = time.time()\n",
        "    elapsed_time = end_time - start_time\n",
        "\n",
        "    print(f\"\\nTotal Time Elapsed: {elapsed_time:.2f} seconds ({elapsed_time / 60:.2f} minutes)\")"
      ],
      "metadata": {
        "id": "h51nEan7eCFD"
      },
      "execution_count": null,
      "outputs": []
    },
    {
      "cell_type": "code",
      "source": [
        "# FULL QUATFORMER\n",
        "main()"
      ],
      "metadata": {
        "colab": {
          "base_uri": "https://localhost:8080/"
        },
        "id": "_dNNpXL9aVyq",
        "outputId": "ba6500db-d95c-4c6e-9802-2a8951f310c7"
      },
      "execution_count": null,
      "outputs": [
        {
          "output_type": "stream",
          "name": "stdout",
          "text": [
            "Cleaning text data...\n",
            "Tokenizing and encoding text data...\n",
            "Train set: 80029 samples\n",
            "Validation set: 10004 samples\n",
            "Test set: 10004 samples\n",
            "Using device: cuda\n",
            "27190019\n",
            "\n",
            "Epoch 1/8\n"
          ]
        },
        {
          "output_type": "stream",
          "name": "stderr",
          "text": []
        },
        {
          "output_type": "stream",
          "name": "stdout",
          "text": [
            "Train Loss: 0.6845\n",
            "Validation Loss: 0.5178 | Validation Accuracy: 0.7937\n",
            "Model saved.\n",
            "\n",
            "Epoch 2/8\n"
          ]
        },
        {
          "output_type": "stream",
          "name": "stderr",
          "text": []
        },
        {
          "output_type": "stream",
          "name": "stdout",
          "text": [
            "Train Loss: 0.4807\n",
            "Validation Loss: 0.4380 | Validation Accuracy: 0.8290\n",
            "Model saved.\n",
            "\n",
            "Epoch 3/8\n"
          ]
        },
        {
          "output_type": "stream",
          "name": "stderr",
          "text": []
        },
        {
          "output_type": "stream",
          "name": "stdout",
          "text": [
            "Train Loss: 0.3927\n",
            "Validation Loss: 0.3889 | Validation Accuracy: 0.8515\n",
            "Model saved.\n",
            "\n",
            "Epoch 4/8\n"
          ]
        },
        {
          "output_type": "stream",
          "name": "stderr",
          "text": []
        },
        {
          "output_type": "stream",
          "name": "stdout",
          "text": [
            "Train Loss: 0.3296\n",
            "Validation Loss: 0.3831 | Validation Accuracy: 0.8578\n",
            "Model saved.\n",
            "\n",
            "Epoch 5/8\n"
          ]
        },
        {
          "output_type": "stream",
          "name": "stderr",
          "text": []
        },
        {
          "output_type": "stream",
          "name": "stdout",
          "text": [
            "Train Loss: 0.2841\n",
            "Validation Loss: 0.3686 | Validation Accuracy: 0.8704\n",
            "Model saved.\n",
            "\n",
            "Epoch 6/8\n"
          ]
        },
        {
          "output_type": "stream",
          "name": "stderr",
          "text": []
        },
        {
          "output_type": "stream",
          "name": "stdout",
          "text": [
            "Train Loss: 0.2481\n",
            "Validation Loss: 0.3528 | Validation Accuracy: 0.8799\n",
            "Model saved.\n",
            "\n",
            "Epoch 7/8\n"
          ]
        },
        {
          "output_type": "stream",
          "name": "stderr",
          "text": []
        },
        {
          "output_type": "stream",
          "name": "stdout",
          "text": [
            "Train Loss: 0.2147\n",
            "Validation Loss: 0.3621 | Validation Accuracy: 0.8815\n",
            "Model saved.\n",
            "\n",
            "Epoch 8/8\n"
          ]
        },
        {
          "output_type": "stream",
          "name": "stderr",
          "text": []
        },
        {
          "output_type": "stream",
          "name": "stdout",
          "text": [
            "Train Loss: 0.1898\n",
            "Validation Loss: 0.3744 | Validation Accuracy: 0.8855\n",
            "Model saved.\n"
          ]
        },
        {
          "output_type": "stream",
          "name": "stderr",
          "text": [
            "                                                             "
          ]
        },
        {
          "output_type": "stream",
          "name": "stdout",
          "text": [
            "\n",
            "Test Loss: 0.3577 | Test Accuracy: 0.8858\n",
            "\n",
            "Classification Report:\n",
            "              precision    recall  f1-score   support\n",
            "\n",
            "     neutral       0.92      0.78      0.85      2094\n",
            "    positive       0.88      0.93      0.91      5038\n",
            "    negative       0.87      0.88      0.87      2872\n",
            "\n",
            "    accuracy                           0.89     10004\n",
            "   macro avg       0.89      0.86      0.88     10004\n",
            "weighted avg       0.89      0.89      0.88     10004\n",
            "\n",
            "Confusion Matrix:\n",
            "[[1642  306  146]\n",
            " [ 104 4702  232]\n",
            " [  42  312 2518]]\n",
            "27190019\n",
            "\n",
            "Total Time Elapsed: 5813.15 seconds (96.89 minutes)\n"
          ]
        },
        {
          "output_type": "stream",
          "name": "stderr",
          "text": [
            "\r"
          ]
        }
      ]
    },
    {
      "cell_type": "code",
      "source": [
        "# PARTIAL QUATFORMER - RERUN WITH SWITCHED OUT COMMENT IN TRANSFORMER BLOCK\n",
        "main()"
      ],
      "metadata": {
        "colab": {
          "base_uri": "https://localhost:8080/"
        },
        "id": "VY-aIU3ytR1K",
        "outputId": "b62a60ab-ab20-4e0c-bf20-3bbb42b9d72d"
      },
      "execution_count": null,
      "outputs": [
        {
          "metadata": {
            "tags": null
          },
          "name": "stdout",
          "output_type": "stream",
          "text": [
            "Cleaning text data...\n",
            "Tokenizing and encoding text data...\n",
            "Train set: 80029 samples\n",
            "Validation set: 10004 samples\n",
            "Test set: 10004 samples\n",
            "Using device: cuda\n",
            "69774851\n",
            "\n",
            "Epoch 1/8\n"
          ]
        },
        {
          "metadata": {
            "tags": null
          },
          "name": "stderr",
          "output_type": "stream",
          "text": [
            ""
          ]
        },
        {
          "metadata": {
            "tags": null
          },
          "name": "stdout",
          "output_type": "stream",
          "text": [
            "Train Loss: 0.6921\n",
            "Validation Loss: 0.5660 | Validation Accuracy: 0.7827\n",
            "Model saved.\n",
            "\n",
            "Epoch 2/8\n"
          ]
        },
        {
          "metadata": {
            "tags": null
          },
          "name": "stderr",
          "output_type": "stream",
          "text": [
            ""
          ]
        },
        {
          "metadata": {
            "tags": null
          },
          "name": "stdout",
          "output_type": "stream",
          "text": [
            "Train Loss: 0.4916\n",
            "Validation Loss: 0.4509 | Validation Accuracy: 0.8289\n",
            "Model saved.\n",
            "\n",
            "Epoch 3/8\n"
          ]
        },
        {
          "metadata": {
            "tags": null
          },
          "name": "stderr",
          "output_type": "stream",
          "text": [
            ""
          ]
        },
        {
          "metadata": {
            "tags": null
          },
          "name": "stdout",
          "output_type": "stream",
          "text": [
            "Train Loss: 0.4062\n",
            "Validation Loss: 0.4251 | Validation Accuracy: 0.8418\n",
            "Model saved.\n",
            "\n",
            "Epoch 4/8\n"
          ]
        },
        {
          "metadata": {
            "tags": null
          },
          "name": "stderr",
          "output_type": "stream",
          "text": [
            ""
          ]
        },
        {
          "metadata": {
            "tags": null
          },
          "name": "stdout",
          "output_type": "stream",
          "text": [
            "Train Loss: 0.3472\n",
            "Validation Loss: 0.3706 | Validation Accuracy: 0.8617\n",
            "Model saved.\n",
            "\n",
            "Epoch 5/8\n"
          ]
        },
        {
          "metadata": {
            "tags": null
          },
          "name": "stderr",
          "output_type": "stream",
          "text": [
            ""
          ]
        },
        {
          "metadata": {
            "tags": null
          },
          "name": "stdout",
          "output_type": "stream",
          "text": [
            "Train Loss: 0.3038\n",
            "Validation Loss: 0.3771 | Validation Accuracy: 0.8670\n",
            "Model saved.\n",
            "\n",
            "Epoch 6/8\n"
          ]
        },
        {
          "output_type": "stream",
          "name": "stderr",
          "text": []
        },
        {
          "output_type": "stream",
          "name": "stdout",
          "text": [
            "Train Loss: 0.2702\n",
            "Validation Loss: 0.3674 | Validation Accuracy: 0.8715\n",
            "Model saved.\n",
            "\n",
            "Epoch 7/8\n"
          ]
        },
        {
          "output_type": "stream",
          "name": "stderr",
          "text": []
        },
        {
          "output_type": "stream",
          "name": "stdout",
          "text": [
            "Train Loss: 0.2394\n",
            "Validation Loss: 0.3439 | Validation Accuracy: 0.8771\n",
            "Model saved.\n",
            "\n",
            "Epoch 8/8\n"
          ]
        },
        {
          "output_type": "stream",
          "name": "stderr",
          "text": []
        },
        {
          "output_type": "stream",
          "name": "stdout",
          "text": [
            "Train Loss: 0.2166\n",
            "Validation Loss: 0.3731 | Validation Accuracy: 0.8750\n"
          ]
        },
        {
          "output_type": "stream",
          "name": "stderr",
          "text": [
            "                                                             "
          ]
        },
        {
          "output_type": "stream",
          "name": "stdout",
          "text": [
            "\n",
            "Test Loss: 0.3321 | Test Accuracy: 0.8781\n",
            "\n",
            "Classification Report:\n",
            "              precision    recall  f1-score   support\n",
            "\n",
            "     neutral       0.90      0.79      0.84      2094\n",
            "    positive       0.90      0.90      0.90      5038\n",
            "    negative       0.83      0.90      0.86      2872\n",
            "\n",
            "    accuracy                           0.88     10004\n",
            "   macro avg       0.88      0.86      0.87     10004\n",
            "weighted avg       0.88      0.88      0.88     10004\n",
            "\n",
            "Confusion Matrix:\n",
            "[[1644  268  182]\n",
            " [ 137 4544  357]\n",
            " [  51  224 2597]]\n",
            "69774851\n",
            "\n",
            "Total Time Elapsed: 4740.63 seconds (79.01 minutes)\n"
          ]
        },
        {
          "output_type": "stream",
          "name": "stderr",
          "text": [
            "\r"
          ]
        }
      ]
    },
    {
      "cell_type": "code",
      "source": [],
      "metadata": {
        "id": "smeQ5AEntVx-"
      },
      "execution_count": null,
      "outputs": []
    },
    {
      "cell_type": "markdown",
      "source": [
        "# Generating Visuals"
      ],
      "metadata": {
        "id": "CyZocONHevb1"
      }
    },
    {
      "cell_type": "code",
      "source": [
        "import numpy as np\n",
        "import matplotlib.pyplot as plt\n",
        "from sklearn.metrics import ConfusionMatrixDisplay\n",
        "\n",
        "# # FULL QUATFORMER\n",
        "# conf_matrix = np.array([\n",
        "#     [1642, 306, 146],\n",
        "#     [104, 4702, 232],\n",
        "#     [42, 312, 2518]\n",
        "# ])\n",
        "\n",
        "# # PARTIAL QUATFORMER\n",
        "# conf_matrix = np.array([\n",
        "#     [1644, 268, 182],\n",
        "#     [137, 4544, 357],\n",
        "#     [51, 224, 2597]\n",
        "# ])\n",
        "\n",
        "# PRETRAINED BERT - FROM OTHER NOTEBOOK\n",
        "conf_matrix = np.array([\n",
        "    [1819, 198, 77],\n",
        "    [123, 4749, 166],\n",
        "    [67, 221, 2584]\n",
        "])\n",
        "\n",
        "# Define class labels\n",
        "class_labels = ['Neutral', 'Positive', 'Negative']\n",
        "\n",
        "# Calculate accuracy\n",
        "accuracy = np.trace(conf_matrix) / np.sum(conf_matrix)\n",
        "\n",
        "# Create a figure\n",
        "plt.figure(figsize=(10, 8))\n",
        "\n",
        "# Normalize the confusion matrix by row (true label)\n",
        "row_sums = conf_matrix.sum(axis=1)\n",
        "norm_conf_matrix = conf_matrix / row_sums[:, np.newaxis]\n",
        "\n",
        "# Create the confusion matrix display\n",
        "display = ConfusionMatrixDisplay(\n",
        "    confusion_matrix=norm_conf_matrix,\n",
        "    display_labels=class_labels\n",
        ")\n",
        "\n",
        "# Plot with enhanced styling\n",
        "display.plot(\n",
        "    cmap='Blues',           # Blue color map\n",
        "    values_format='.1%',    # Show as percentages with 1 decimal place\n",
        "    colorbar=True,          # Show color scale\n",
        "    xticks_rotation=45,     # Rotate x labels for better readability\n",
        "    ax=plt.gca()            # Get current axis\n",
        ")\n",
        "\n",
        "# Add title and adjust labels\n",
        "plt.title(f'Pretrained BERT: {accuracy:.2%}', fontsize=16, pad=20)\n",
        "plt.xlabel('Predicted Label', fontsize=14, labelpad=10)\n",
        "plt.ylabel('True Label', fontsize=14, labelpad=10)\n",
        "\n",
        "\n",
        "# Improve layout\n",
        "plt.tight_layout()\n",
        "\n",
        "# Show the plot\n",
        "plt.show()"
      ],
      "metadata": {
        "colab": {
          "base_uri": "https://localhost:8080/",
          "height": 806
        },
        "id": "GvxAXL7OegqS",
        "outputId": "e3b166a4-78c8-4d85-fcd1-740711c219b9"
      },
      "execution_count": null,
      "outputs": [
        {
          "output_type": "display_data",
          "data": {
            "text/plain": [
              "<Figure size 1000x800 with 2 Axes>"
            ],
            "image/png": "[encoded data removed]"
          },
          "metadata": {}
        }
      ]
    },
    {
      "cell_type": "code",
      "source": [],
      "metadata": {
        "id": "lj_rY3WjmYFc"
      },
      "execution_count": null,
      "outputs": []
    }
  ]
}